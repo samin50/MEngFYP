{
 "cells": [
  {
   "cell_type": "code",
   "execution_count": 16,
   "metadata": {},
   "outputs": [],
   "source": [
    "from vsrc.constants import DATA\n",
    "from ultralytics import YOLO\n",
    "from sparseml.pytorch.optim import ScheduledModifierManager\n",
    "from torch.optim import AdamW\n",
    "from os import path, listdir, makedirs\n",
    "from shutil import rmtree, copy\n",
    "import random\n",
    "import time\n",
    "import cv2"
   ]
  },
  {
   "cell_type": "code",
   "execution_count": 17,
   "metadata": {},
   "outputs": [],
   "source": [
    "BASE_MODEL = \"./models/final/classifier.pt\"\n",
    "RECIPE_PATH = \"./models/recipes/sparsify_ex.yaml\"\n",
    "\n",
    "model = YOLO(BASE_MODEL)"
   ]
  },
  {
   "cell_type": "code",
   "execution_count": 21,
   "metadata": {},
   "outputs": [
    {
     "name": "stderr",
     "output_type": "stream",
     "text": [
      "2024-06-11 02:29:56 sparseml.pytorch.utils.logger INFO     Logging all SparseML modifier-level logs to sparse_logs\\11-06-2024_02.29.56.log\n"
     ]
    }
   ],
   "source": [
    "optimizer = AdamW(lr=0.000588, params=model.model.parameters())\n",
    "manager = ScheduledModifierManager.from_yaml(RECIPE_PATH)\n",
    "sparseModel = manager.modify(model.model, steps_per_epoch=1, optimizer=optimizer)"
   ]
  }
 ],
 "metadata": {
  "kernelspec": {
   "display_name": "fyp",
   "language": "python",
   "name": "python3"
  },
  "language_info": {
   "codemirror_mode": {
    "name": "ipython",
    "version": 3
   },
   "file_extension": ".py",
   "mimetype": "text/x-python",
   "name": "python",
   "nbconvert_exporter": "python",
   "pygments_lexer": "ipython3",
   "version": "3.10.13"
  }
 },
 "nbformat": 4,
 "nbformat_minor": 2
}

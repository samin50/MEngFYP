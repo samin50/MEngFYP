{
 "cells": [
  {
   "cell_type": "code",
   "execution_count": 1,
   "metadata": {},
   "outputs": [
    {
     "name": "stdout",
     "output_type": "stream",
     "text": [
      "WARNING  Ultralytics settings reset to default values. This may be due to a possible problem with your settings or a recent ultralytics package update. \n",
      "View settings with 'yolo settings' or at 'C:\\Users\\Shaheen\\AppData\\Roaming\\Ultralytics\\settings.yaml'\n",
      "Update settings with 'yolo settings key=value', i.e. 'yolo settings runs_dir=path/to/dir'. For help see https://docs.ultralytics.com/quickstart/#ultralytics-settings.\n"
     ]
    }
   ],
   "source": [
    "from vsrc.constants import DATA\n",
    "from ultralytics import YOLO\n",
    "from sparseml.pytorch.optim import ScheduledModifierManager\n",
    "from sparseml.pytorch.utils import get_prunable_layers\n",
    "from torch.optim import AdamW\n",
    "from os import path, listdir, makedirs\n",
    "from shutil import rmtree, copy\n",
    "import random\n",
    "import time\n",
    "import cv2"
   ]
  },
  {
   "cell_type": "code",
   "execution_count": 2,
   "metadata": {},
   "outputs": [],
   "source": [
    "BASE_MODEL = \"./models/final/classifier.pt\"\n",
    "RECIPE_PATH = \"./models/recipes/recipe.yaml\"\n",
    "\n",
    "model = YOLO(BASE_MODEL)\n",
    "# model.model.to(\"cuda\")"
   ]
  },
  {
   "cell_type": "code",
   "execution_count": 31,
   "metadata": {},
   "outputs": [],
   "source": [
    "# Constants\n",
    "IMAGE_SIZE = 640 # x 480\n",
    "PROJECT_NAME = \"logs\"\n",
    "RECIPE_NAME = \"sparse_obb\"\n",
    "TRAIN_RUN = f\"{RECIPE_NAME}_run-{time.strftime('%Y%m%d-%H%M%S')}\"\n",
    "DATA_PATH = \"./datasets/full\"\n",
    "\n",
    "# Model\n",
    "MODEL_PATH = \"./models/pretrained/yolov8n-obb-dotav1.pt\"\n",
    "TEST_PATH = \"./models/recipes/dataset_desc_test.yaml\"\n",
    "TRAIN_PARAM = {\n",
    "    # Model definition\n",
    "    'data': \"./models/recipes/dataset_desc.yaml\",\n",
    "    'resume': False,\n",
    "    'device': '0',\n",
    "    'pretrained': True,\n",
    "    # Names\n",
    "    'project' : PROJECT_NAME,\n",
    "    'name': TRAIN_RUN,\n",
    "    # Training Parameters\n",
    "    'batch': -1,\n",
    "    'imgsz': IMAGE_SIZE,\n",
    "    'epochs': 1,\n",
    "    'cos_lr': False,\n",
    "    # \"lr0\": 0.05,\n",
    "    # Augmentation\n",
    "    'hsv_h': 0.05, # Higher than default for resistor\n",
    "    'hsv_s': 0.3, # Colours should not change too much\n",
    "    'hsv_v': 0.2, # Colours should not change too much\n",
    "    'degrees': 180, # Rotation\n",
    "    'translate': 0.1, # Translation\n",
    "    'scale': 0.8, # Scaling - camera is always at the same distance\n",
    "    'shear': 10.0, # Shearing\n",
    "    'perspective': 0.0, # Perspective\n",
    "    'flipud': 0.5, # Flip up-down\n",
    "    'fliplr': 0.5, # Flip left-right\n",
    "    'mosaic': 0.5, # Mosaic\n",
    "    'mixup': 0.0, # Mixup\n",
    "    'copy_paste': 0.0, # Copy-paste\n",
    "    'crop_fraction': 1.0, # Crop fraction\n",
    "    # Loss weights\n",
    "    # 'cls' : 1.0, # Class\n",
    "    # 'box' : 4.0, # Box accuracy\n",
    "    # 'dfl' : 1.5, # Help manage unbalanced classes\n",
    "    # Post parameters\n",
    "    'save': False,\n",
    "    'save_period': 5,\n",
    "    'plots': False,\n",
    "    # Misc\n",
    "    'verbose': False,\n",
    "}"
   ]
  },
  {
   "cell_type": "code",
   "execution_count": 32,
   "metadata": {},
   "outputs": [
    {
     "name": "stdout",
     "output_type": "stream",
     "text": [
      "New https://pypi.org/project/ultralytics/8.2.31 available  Update with 'pip install -U ultralytics'\n",
      "Ultralytics YOLOv8.2.20  Python-3.10.13 torch-2.1.1+cu121 CUDA:0 (NVIDIA GeForce RTX 3080 Laptop GPU, 16384MiB)\n",
      "\u001b[34m\u001b[1mengine\\trainer: \u001b[0mtask=obb, mode=train, model=./models/final/classifier.pt, data=./models/recipes/dataset_desc.yaml, epochs=1, time=None, patience=100, batch=-1, imgsz=640, save=False, save_period=5, cache=False, device=0, workers=8, project=logs, name=sparse_obb_run-20240611-030544, exist_ok=False, pretrained=True, optimizer=auto, verbose=False, seed=0, deterministic=True, single_cls=False, rect=False, cos_lr=False, close_mosaic=10, resume=False, amp=True, fraction=1.0, profile=False, freeze=None, multi_scale=False, overlap_mask=True, mask_ratio=4, dropout=0.0, val=True, split=val, save_json=False, save_hybrid=False, conf=None, iou=0.7, max_det=300, half=False, dnn=False, plots=False, source=None, vid_stride=1, stream_buffer=False, visualize=False, augment=False, agnostic_nms=False, classes=None, retina_masks=False, embed=None, show=False, save_frames=False, save_txt=False, save_conf=False, save_crop=False, show_labels=True, show_conf=True, show_boxes=True, line_width=None, format=torchscript, keras=False, optimize=False, int8=False, dynamic=False, simplify=False, opset=None, workspace=4, nms=False, lr0=0.01, lrf=0.01, momentum=0.937, weight_decay=0.0005, warmup_epochs=3.0, warmup_momentum=0.8, warmup_bias_lr=0.1, box=7.5, cls=0.5, dfl=1.5, pose=12.0, kobj=1.0, label_smoothing=0.0, nbs=64, hsv_h=0.05, hsv_s=0.3, hsv_v=0.2, degrees=180, translate=0.1, scale=0.8, shear=10.0, perspective=0.0, flipud=0.5, fliplr=0.5, bgr=0.0, mosaic=0.5, mixup=0.0, copy_paste=0.0, auto_augment=randaugment, erasing=0.4, crop_fraction=1.0, cfg=None, tracker=botsort.yaml, save_dir=logs\\sparse_obb_run-20240611-030544\n",
      "\n",
      "                   from  n    params  module                                       arguments                     \n",
      "  0                  -1  1       464  ultralytics.nn.modules.conv.Conv             [3, 16, 3, 2]                 \n",
      "  1                  -1  1      4672  ultralytics.nn.modules.conv.Conv             [16, 32, 3, 2]                \n",
      "  2                  -1  1      7360  ultralytics.nn.modules.block.C2f             [32, 32, 1, True]             \n",
      "  3                  -1  1     18560  ultralytics.nn.modules.conv.Conv             [32, 64, 3, 2]                \n",
      "  4                  -1  2     49664  ultralytics.nn.modules.block.C2f             [64, 64, 2, True]             \n",
      "  5                  -1  1     73984  ultralytics.nn.modules.conv.Conv             [64, 128, 3, 2]               \n",
      "  6                  -1  2    197632  ultralytics.nn.modules.block.C2f             [128, 128, 2, True]           \n",
      "  7                  -1  1    295424  ultralytics.nn.modules.conv.Conv             [128, 256, 3, 2]              \n",
      "  8                  -1  1    460288  ultralytics.nn.modules.block.C2f             [256, 256, 1, True]           \n",
      "  9                  -1  1    164608  ultralytics.nn.modules.block.SPPF            [256, 256, 5]                 \n",
      " 10                  -1  1         0  torch.nn.modules.upsampling.Upsample         [None, 2, 'nearest']          \n",
      " 11             [-1, 6]  1         0  ultralytics.nn.modules.conv.Concat           [1]                           \n",
      " 12                  -1  1    148224  ultralytics.nn.modules.block.C2f             [384, 128, 1]                 \n",
      " 13                  -1  1         0  torch.nn.modules.upsampling.Upsample         [None, 2, 'nearest']          \n",
      " 14             [-1, 4]  1         0  ultralytics.nn.modules.conv.Concat           [1]                           \n",
      " 15                  -1  1     37248  ultralytics.nn.modules.block.C2f             [192, 64, 1]                  \n",
      " 16                  -1  1     36992  ultralytics.nn.modules.conv.Conv             [64, 64, 3, 2]                \n",
      " 17            [-1, 12]  1         0  ultralytics.nn.modules.conv.Concat           [1]                           \n",
      " 18                  -1  1    123648  ultralytics.nn.modules.block.C2f             [192, 128, 1]                 \n",
      " 19                  -1  1    147712  ultralytics.nn.modules.conv.Conv             [128, 128, 3, 2]              \n",
      " 20             [-1, 9]  1         0  ultralytics.nn.modules.conv.Concat           [1]                           \n",
      " 21                  -1  1    493056  ultralytics.nn.modules.block.C2f             [384, 256, 1]                 \n",
      " 22        [15, 18, 21]  1    825124  ultralytics.nn.modules.head.OBB              [11, 1, [64, 128, 256]]       \n",
      "YOLOv8n-obb summary: 250 layers, 3084660 parameters, 3084644 gradients, 8.5 GFLOPs\n",
      "\n",
      "Transferred 397/397 items from pretrained weights\n",
      "\u001b[34m\u001b[1mTensorBoard: \u001b[0mStart with 'tensorboard --logdir logs\\sparse_obb_run-20240611-030544', view at http://localhost:6006/\n",
      "Freezing layer 'model.22.dfl.conv.weight'\n",
      "\u001b[34m\u001b[1mAMP: \u001b[0mrunning Automatic Mixed Precision (AMP) checks with YOLOv8n...\n",
      "\u001b[34m\u001b[1mAMP: \u001b[0mchecks passed \n",
      "\u001b[34m\u001b[1mAutoBatch: \u001b[0mComputing optimal batch size for imgsz=640\n",
      "\u001b[34m\u001b[1mAutoBatch: \u001b[0mCUDA:0 (NVIDIA GeForce RTX 3080 Laptop GPU) 16.00G total, 0.26G reserved, 0.10G allocated, 15.64G free\n",
      "      Params      GFLOPs  GPU_mem (GB)  forward (ms) backward (ms)                   input                  output\n",
      "     3084660       8.452         0.543         51.83           nan        (1, 3, 640, 640)                    list\n",
      "     3084660        16.9         0.675         36.17           nan        (2, 3, 640, 640)                    list\n",
      "     3084660       33.81         1.080         45.33           nan        (4, 3, 640, 640)                    list\n",
      "     3084660       67.62         2.034         30.67           nan        (8, 3, 640, 640)                    list\n",
      "     3084660       135.2         3.567         46.33           nan       (16, 3, 640, 640)                    list\n",
      "\u001b[34m\u001b[1mAutoBatch: \u001b[0mUsing batch-size 44 for CUDA:0 9.71G/16.00G (61%) \n"
     ]
    },
    {
     "name": "stderr",
     "output_type": "stream",
     "text": [
      "\u001b[34m\u001b[1mtrain: \u001b[0mScanning C:\\Users\\Shaheen\\OneDrive - Imperial College London\\Uni\\CW Labs\\Year 4\\FYP\\src\\vision\\datasets\\full\\current\\labels\\train.cache... 682 images, 0 backgrounds, 0 corrupt: 100%|██████████| 682/682 [00:00<?, ?it/s]\n",
      "\u001b[34m\u001b[1mval: \u001b[0mScanning C:\\Users\\Shaheen\\OneDrive - Imperial College London\\Uni\\CW Labs\\Year 4\\FYP\\src\\vision\\datasets\\full\\current\\labels\\val.cache... 195 images, 0 backgrounds, 0 corrupt: 100%|██████████| 195/195 [00:00<?, ?it/s]\n"
     ]
    },
    {
     "name": "stdout",
     "output_type": "stream",
     "text": [
      "\u001b[34m\u001b[1moptimizer:\u001b[0m 'optimizer=auto' found, ignoring 'lr0=0.01' and 'momentum=0.937' and determining best 'optimizer', 'lr0' and 'momentum' automatically... \n",
      "\u001b[34m\u001b[1moptimizer:\u001b[0m AdamW(lr=0.000667, momentum=0.9) with parameter groups 63 weight(decay=0.0), 73 weight(decay=0.00034375), 72 bias(decay=0.0)\n",
      "\u001b[34m\u001b[1mTensorBoard: \u001b[0mmodel graph visualization added \n",
      "Image sizes 640 train, 640 val\n",
      "Using 8 dataloader workers\n",
      "Logging results to \u001b[1mlogs\\sparse_obb_run-20240611-030544\u001b[0m\n",
      "Starting training for 1 epochs...\n",
      "\n",
      "      Epoch    GPU_mem   box_loss   cls_loss   dfl_loss  Instances       Size\n"
     ]
    },
    {
     "name": "stderr",
     "output_type": "stream",
     "text": [
      "        1/1      6.52G      1.014     0.5988      1.539         37        640: 100%|██████████| 16/16 [00:08<00:00,  1.88it/s]\n",
      "                 Class     Images  Instances      Box(P          R      mAP50  mAP50-95): 100%|██████████| 5/5 [00:02<00:00,  2.29it/s]"
     ]
    },
    {
     "name": "stdout",
     "output_type": "stream",
     "text": [
      "                   all        195        195       0.99          1      0.995      0.798\n"
     ]
    },
    {
     "name": "stderr",
     "output_type": "stream",
     "text": [
      "\n"
     ]
    },
    {
     "name": "stdout",
     "output_type": "stream",
     "text": [
      "\n",
      "1 epochs completed in 0.005 hours.\n",
      "Optimizer stripped from logs\\sparse_obb_run-20240611-030544\\weights\\last.pt, 6.7MB\n",
      "Optimizer stripped from logs\\sparse_obb_run-20240611-030544\\weights\\best.pt, 6.7MB\n",
      "\n",
      "Validating logs\\sparse_obb_run-20240611-030544\\weights\\best.pt...\n",
      "Ultralytics YOLOv8.2.20  Python-3.10.13 torch-2.1.1+cu121 CUDA:0 (NVIDIA GeForce RTX 3080 Laptop GPU, 16384MiB)\n",
      "YOLOv8n-obb summary (fused): 187 layers, 3079364 parameters, 0 gradients, 8.3 GFLOPs\n"
     ]
    },
    {
     "name": "stderr",
     "output_type": "stream",
     "text": [
      "                 Class     Images  Instances      Box(P          R      mAP50  mAP50-95): 100%|██████████| 5/5 [00:01<00:00,  3.29it/s]"
     ]
    },
    {
     "name": "stdout",
     "output_type": "stream",
     "text": [
      "                   all        195        195       0.99          1      0.995      0.799\n",
      "Speed: 0.3ms preprocess, 2.2ms inference, 0.0ms loss, 2.4ms postprocess per image\n"
     ]
    },
    {
     "name": "stderr",
     "output_type": "stream",
     "text": [
      "\n"
     ]
    }
   ],
   "source": [
    "metrics = model.train(**TRAIN_PARAM)"
   ]
  },
  {
   "cell_type": "code",
   "execution_count": 40,
   "metadata": {},
   "outputs": [
    {
     "data": {
      "text/plain": [
       "{'metrics/precision(B)': 0.9899909996370566,\n",
       " 'metrics/recall(B)': 1.0,\n",
       " 'metrics/mAP50(B)': 0.995,\n",
       " 'metrics/mAP50-95(B)': 0.7986636128091695,\n",
       " 'fitness': 0.8182972515282526}"
      ]
     },
     "execution_count": 40,
     "metadata": {},
     "output_type": "execute_result"
    }
   ],
   "source": [
    "metrics.results_dict"
   ]
  },
  {
   "cell_type": "code",
   "execution_count": 27,
   "metadata": {},
   "outputs": [],
   "source": [
    "optimizer = AdamW(lr=0.000588, params=model.model.parameters())\n",
    "manager = ScheduledModifierManager.from_yaml(RECIPE_PATH)\n",
    "sparseModel = manager.modify(model.model, steps_per_epoch=1, optimizer=optimizer)"
   ]
  },
  {
   "cell_type": "code",
   "execution_count": 25,
   "metadata": {},
   "outputs": [
    {
     "name": "stdout",
     "output_type": "stream",
     "text": [
      "model.model.0.conv\n",
      "model.model.1.conv\n",
      "model.model.2.cv1.conv\n",
      "model.model.2.cv2.conv\n",
      "model.model.2.m.0.cv1.conv\n",
      "model.model.2.m.0.cv2.conv\n",
      "model.model.3.conv\n",
      "model.model.4.cv1.conv\n",
      "model.model.4.cv2.conv\n",
      "model.model.4.m.0.cv1.conv\n",
      "model.model.4.m.0.cv2.conv\n",
      "model.model.4.m.1.cv1.conv\n",
      "model.model.4.m.1.cv2.conv\n",
      "model.model.5.conv\n",
      "model.model.6.cv1.conv\n",
      "model.model.6.cv2.conv\n",
      "model.model.6.m.0.cv1.conv\n",
      "model.model.6.m.0.cv2.conv\n",
      "model.model.6.m.1.cv1.conv\n",
      "model.model.6.m.1.cv2.conv\n",
      "model.model.7.conv\n",
      "model.model.8.cv1.conv\n",
      "model.model.8.cv2.conv\n",
      "model.model.8.m.0.cv1.conv\n",
      "model.model.8.m.0.cv2.conv\n",
      "model.model.9.cv1.conv\n",
      "model.model.9.cv2.conv\n",
      "model.model.12.cv1.conv\n",
      "model.model.12.cv2.conv\n",
      "model.model.12.m.0.cv1.conv\n",
      "model.model.12.m.0.cv2.conv\n",
      "model.model.15.cv1.conv\n",
      "model.model.15.cv2.conv\n",
      "model.model.15.m.0.cv1.conv\n",
      "model.model.15.m.0.cv2.conv\n",
      "model.model.16.conv\n",
      "model.model.18.cv1.conv\n",
      "model.model.18.cv2.conv\n",
      "model.model.18.m.0.cv1.conv\n",
      "model.model.18.m.0.cv2.conv\n",
      "model.model.19.conv\n",
      "model.model.21.cv1.conv\n",
      "model.model.21.cv2.conv\n",
      "model.model.21.m.0.cv1.conv\n",
      "model.model.21.m.0.cv2.conv\n",
      "model.model.22.cv2.0.0.conv\n",
      "model.model.22.cv2.0.1.conv\n",
      "model.model.22.cv2.0.2\n",
      "model.model.22.cv2.1.0.conv\n",
      "model.model.22.cv2.1.1.conv\n",
      "model.model.22.cv2.1.2\n",
      "model.model.22.cv2.2.0.conv\n",
      "model.model.22.cv2.2.1.conv\n",
      "model.model.22.cv2.2.2\n",
      "model.model.22.cv3.0.0.conv\n",
      "model.model.22.cv3.0.1.conv\n",
      "model.model.22.cv3.0.2\n",
      "model.model.22.cv3.1.0.conv\n",
      "model.model.22.cv3.1.1.conv\n",
      "model.model.22.cv3.1.2\n",
      "model.model.22.cv3.2.0.conv\n",
      "model.model.22.cv3.2.1.conv\n",
      "model.model.22.cv3.2.2\n",
      "model.model.22.dfl.conv\n",
      "model.model.22.cv4.0.0.conv\n",
      "model.model.22.cv4.0.1.conv\n",
      "model.model.22.cv4.0.2\n",
      "model.model.22.cv4.1.0.conv\n",
      "model.model.22.cv4.1.1.conv\n",
      "model.model.22.cv4.1.2\n",
      "model.model.22.cv4.2.0.conv\n",
      "model.model.22.cv4.2.1.conv\n",
      "model.model.22.cv4.2.2\n"
     ]
    }
   ],
   "source": [
    "for (name, layer) in get_prunable_layers(model):\n",
    "    print(f\"{name}\")"
   ]
  },
  {
   "cell_type": "code",
   "execution_count": null,
   "metadata": {},
   "outputs": [],
   "source": [
    "def train_one_epoch(model, sparseModel, optimizer, data):\n",
    "    model.train()\n",
    "    sparseModel.train()\n",
    "    for i, (img, target) in enumerate(data):\n",
    "        img = img.to(\"cuda\")\n",
    "        target = target.to(\"cuda\")\n",
    "        optimizer.zero_grad()\n",
    "        loss = sparseModel(img, target)\n",
    "        loss.backward()\n",
    "        optimizer.step()\n",
    "        print(f\"Batch {i+1}/{len(data)} Loss: {loss.item()}\")\n",
    "    return loss"
   ]
  },
  {
   "cell_type": "code",
   "execution_count": 3,
   "metadata": {},
   "outputs": [
    {
     "name": "stderr",
     "output_type": "stream",
     "text": [
      "Traceback (most recent call last):\n",
      "  File \"C:\\Users\\Shaheen\\anaconda3\\envs\\fyp\\lib\\runpy.py\", line 196, in _run_module_as_main\n",
      "    return _run_code(code, main_globals, None,\n",
      "  File \"C:\\Users\\Shaheen\\anaconda3\\envs\\fyp\\lib\\runpy.py\", line 86, in _run_code\n",
      "    exec(code, run_globals)\n",
      "  File \"C:\\Users\\Shaheen\\Anaconda3\\envs\\fyp\\Scripts\\sparseml.ultralytics.train.exe\\__main__.py\", line 7, in <module>\n",
      "  File \"C:\\Users\\Shaheen\\anaconda3\\envs\\fyp\\lib\\site-packages\\click\\core.py\", line 1157, in __call__\n",
      "    return self.main(*args, **kwargs)\n",
      "  File \"C:\\Users\\Shaheen\\anaconda3\\envs\\fyp\\lib\\site-packages\\click\\core.py\", line 1078, in main\n",
      "    rv = self.invoke(ctx)\n",
      "  File \"C:\\Users\\Shaheen\\anaconda3\\envs\\fyp\\lib\\site-packages\\click\\core.py\", line 1434, in invoke\n",
      "    return ctx.invoke(self.callback, **ctx.params)\n",
      "  File \"C:\\Users\\Shaheen\\anaconda3\\envs\\fyp\\lib\\site-packages\\click\\core.py\", line 783, in invoke\n",
      "    return __callback(*args, **kwargs)\n",
      "  File \"C:\\Users\\Shaheen\\anaconda3\\envs\\fyp\\lib\\site-packages\\sparseml\\yolov8\\train.py\", line 226, in main\n",
      "    model = SparseYOLO(kwargs[\"model\"], kwargs[\"task\"])\n",
      "  File \"C:\\Users\\Shaheen\\anaconda3\\envs\\fyp\\lib\\site-packages\\sparseml\\yolov8\\trainers.py\", line 571, in __init__\n",
      "    ckpt = torch.load(model_str, map_location=\"cpu\")\n",
      "  File \"C:\\Users\\Shaheen\\anaconda3\\envs\\fyp\\lib\\site-packages\\torch\\serialization.py\", line 1014, in load\n",
      "    return _load(opened_zipfile,\n",
      "  File \"C:\\Users\\Shaheen\\anaconda3\\envs\\fyp\\lib\\site-packages\\torch\\serialization.py\", line 1422, in _load\n",
      "    result = unpickler.load()\n",
      "  File \"C:\\Users\\Shaheen\\anaconda3\\envs\\fyp\\lib\\site-packages\\torch\\serialization.py\", line 1415, in find_class\n",
      "    return super().find_class(mod_name, name)\n",
      "AttributeError: Can't get attribute 'OBBModel' on <module 'ultralytics.nn.tasks' from 'C:\\\\Users\\\\Shaheen\\\\anaconda3\\\\envs\\\\fyp\\\\lib\\\\site-packages\\\\ultralytics\\\\nn\\\\tasks.py'>\n"
     ]
    }
   ],
   "source": [
    "! sparseml.ultralytics.train --recipe \"./models/recipes/sparsify_ex.yaml\" --model \"./models/pretrained/yolov8n-obb-dotav1.pt\" --data \"./models/recipes/dataset_desc.yaml\""
   ]
  }
 ],
 "metadata": {
  "kernelspec": {
   "display_name": "fyp",
   "language": "python",
   "name": "python3"
  },
  "language_info": {
   "codemirror_mode": {
    "name": "ipython",
    "version": 3
   },
   "file_extension": ".py",
   "mimetype": "text/x-python",
   "name": "python",
   "nbconvert_exporter": "python",
   "pygments_lexer": "ipython3",
   "version": "3.10.13"
  }
 },
 "nbformat": 4,
 "nbformat_minor": 2
}

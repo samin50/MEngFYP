{
 "cells": [
  {
   "cell_type": "code",
   "execution_count": 1,
   "metadata": {},
   "outputs": [],
   "source": [
    "from ultralytics import YOLO\n",
    "import yaml\n",
    "from os import path\n",
    "from vsrc.constants import DATA\n",
    "%load_ext autoreload"
   ]
  },
  {
   "cell_type": "code",
   "execution_count": 2,
   "metadata": {},
   "outputs": [],
   "source": [
    "# Helper Functions\n",
    "def save_no_overwrite(file):\n",
    "    suffix = 0\n",
    "    name, extension = path.splitext(file)\n",
    "    while path.exists(file):\n",
    "        file = f\"{name}_{suffix}{extension}\"\n",
    "        suffix += 1\n",
    "    return file"
   ]
  },
  {
   "cell_type": "code",
   "execution_count": 3,
   "metadata": {},
   "outputs": [],
   "source": [
    "# Constants\n",
    "MODEL = './models/base/yolov8m.pt'\n",
    "CHECKPOINT_PATH, RECIPE_PATH = './models/checkpoints/', './models/recipes/'\n",
    "IMAGE_SIZE = 250\n",
    "\n",
    "# Derived Constants\n",
    "MODEL_PATH, MODEL_NAME = path.split(MODEL)"
   ]
  },
  {
   "cell_type": "code",
   "execution_count": 4,
   "metadata": {},
   "outputs": [],
   "source": [
    "# Identifier Recipe\n",
    "YAML_RECIPE = {\n",
    "    'path' : './dataset/labelled/all',\n",
    "    'train' : 'images/train',\n",
    "    'val' : 'images/val',\n",
    "    'names' : [{ DATA[name][\"num_label\"] : name} for name in DATA],\n",
    "}\n"
   ]
  },
  {
   "cell_type": "code",
   "execution_count": 49,
   "metadata": {},
   "outputs": [],
   "source": [
    "YAML_FILEPATH = save_no_overwrite(path.join(RECIPE_PATH, f'{MODEL_NAME}.yaml'))\n",
    "with open(YAML_FILEPATH, 'w') as f:\n",
    "    yaml.dump(YAML_RECIPE, f)"
   ]
  }
 ],
 "metadata": {
  "kernelspec": {
   "display_name": "fyp",
   "language": "python",
   "name": "python3"
  },
  "language_info": {
   "codemirror_mode": {
    "name": "ipython",
    "version": 3
   },
   "file_extension": ".py",
   "mimetype": "text/x-python",
   "name": "python",
   "nbconvert_exporter": "python",
   "pygments_lexer": "ipython3",
   "version": "3.10.13"
  }
 },
 "nbformat": 4,
 "nbformat_minor": 2
}

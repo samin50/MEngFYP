{
 "cells": [
  {
   "cell_type": "code",
   "execution_count": 3,
   "metadata": {},
   "outputs": [],
   "source": [
    "# Imports\n",
    "from tkinter import filedialog, Tk\n",
    "import yaml\n",
    "from os import path, listdir\n",
    "from shutil import copytree, rmtree, copy\n",
    "from vsrc.constants import DATA\n",
    "import os\n",
    "%load_ext autoreload\n",
    "%gui tk"
   ]
  },
  {
   "cell_type": "code",
   "execution_count": 2,
   "metadata": {},
   "outputs": [],
   "source": [
    "# Helper Functions\n",
    "def save_no_overwrite(file: str) -> str:\n",
    "    suffix = 0\n",
    "    name, extension = path.splitext(file)\n",
    "    while path.exists(file):\n",
    "        file = f\"{name}_{suffix}{extension}\"\n",
    "        suffix += 1\n",
    "    return file\n",
    "\n",
    "def open_file():\n",
    "    root = Tk()\n",
    "    filename = filedialog.askopenfilename(title='Select Model Or Checkpoint', initialdir='./models/', filetypes=[('Model Files', '*.pt')])\n",
    "    root.destroy()\n",
    "    return filename\n"
   ]
  },
  {
   "cell_type": "code",
   "execution_count": 4,
   "metadata": {},
   "outputs": [],
   "source": [
    "# Constants\n",
    "CHECKPOINT_PATH, RECIPE_PATH, LOGS_PATH = './models/checkpoints/', './models/recipes/', 'test'\n",
    "IMAGE_SIZE = 250\n",
    "\n",
    "# Derived Constants"
   ]
  },
  {
   "cell_type": "code",
   "execution_count": 5,
   "metadata": {},
   "outputs": [
    {
     "name": "stdout",
     "output_type": "stream",
     "text": [
      "sparseml.ultralytics.train --model zoo:yolov8-m-coco-pruned80_quantized --recipe zoo:yolov8-m-voc_coco-pruned80_quantized --data coco128.yaml --project FYP-YOLO --name demo_test --dataset-path ../src/vision/dataset/examples/ --batch 32 --imgsz 250 --epochs 4 --workers 8 --device 0\n"
     ]
    }
   ],
   "source": [
    "TRAIN_PARAM = {\n",
    "    # Model definition\n",
    "    'model': 'zoo:yolov8-m-coco-pruned80_quantized',\n",
    "    'recipe': 'zoo:yolov8-m-voc_coco-pruned80_quantized',\n",
    "    'data': 'coco128.yaml',\n",
    "    'resume': False,\n",
    "    # Names\n",
    "    'project' : 'FYP-YOLO',\n",
    "    'name': 'demo_test',\n",
    "    'dataset-path' : '../src/vision/dataset/examples/',\n",
    "    # Training Parameters\n",
    "    'batch': 32,\n",
    "    'imgsz': IMAGE_SIZE,\n",
    "    'epochs': 4,\n",
    "    'cos_lr': False,\n",
    "    # Misc\n",
    "    'workers': 8,\n",
    "    'device': '0',\n",
    "    'verbose': False,\n",
    "}\n",
    "\n",
    "command_str = \"sparseml.ultralytics.train\"\n",
    "for key, value in TRAIN_PARAM.items():\n",
    "    if type(value) == bool:\n",
    "        command_str += f\" --{key}\" if value else \"\"\n",
    "    else:\n",
    "        command_str += f\" --{key} {value}\"\n",
    "\n",
    "print(command_str)"
   ]
  },
  {
   "cell_type": "code",
   "execution_count": 6,
   "metadata": {},
   "outputs": [
    {
     "data": {
      "text/plain": [
       "0"
      ]
     },
     "execution_count": 6,
     "metadata": {},
     "output_type": "execute_result"
    }
   ],
   "source": [
    "os.system(f'start cmd /k \"{command_str}\"')"
   ]
  },
  {
   "cell_type": "markdown",
   "metadata": {},
   "source": [
    "### Identifier"
   ]
  },
  {
   "cell_type": "code",
   "execution_count": 28,
   "metadata": {},
   "outputs": [
    {
     "name": "stdout",
     "output_type": "stream",
     "text": [
      "Found 2 images and 1 labels in resistor\n"
     ]
    }
   ],
   "source": [
    "# Identifier Recipe\n",
    "DATASET_FOLDER = './dataset/all'\n",
    "YAML_RECIPE = {\n",
    "    'path' : DATASET_FOLDER,\n",
    "    'train' : 'train',\n",
    "    'val' : 'test',\n",
    "    'names' : [{ DATA[name][\"num_label\"] : name} for name in DATA],\n",
    "}\n",
    "# Copy all component data to all folder\n",
    "if path.exists(DATASET_FOLDER): rmtree(DATASET_FOLDER)\n",
    "# Get all component images from all folders\n",
    "images, labels = [], []\n",
    "for folder in listdir('./dataset'):\n",
    "    if folder in ['template', 'test.png']: continue\n",
    "    # Append all files in folder to images\n",
    "    imgfiles = listdir(path.join('./dataset', folder, 'imgs'))\n",
    "    labfiles = listdir(path.join('./dataset', folder, 'labels'))\n",
    "    for file in imgfiles:\n",
    "        images.append(path.join('./dataset', folder, 'imgs', file))\n",
    "    for label in labfiles:\n",
    "        labels.append(path.join('./dataset', folder, 'labels', label))\n",
    "    print(f\"Found {len(imgfiles)} images and {len(labfiles)} labels in {folder}\")\n",
    "# Copy all fules to new folder\n",
    "copytree('./dataset/template', DATASET_FOLDER)\n",
    "# Copy all images to new folder\n",
    "for image in images:\n",
    "    copy(image, path.join(DATASET_FOLDER, 'imgs'))\n",
    "# Copy all labels to new folder\n",
    "for label in labels:\n",
    "    copy(label, path.join(DATASET_FOLDER, 'labels'))"
   ]
  },
  {
   "cell_type": "markdown",
   "metadata": {},
   "source": [
    "### Load Models"
   ]
  },
  {
   "cell_type": "code",
   "execution_count": 14,
   "metadata": {},
   "outputs": [],
   "source": [
    "# Base Model\n",
    "MODEL_PATH, MODEL_NAME = path.split(open_file())\n",
    "# YAML Saving\n",
    "YAML_FILEPATH = save_no_overwrite(path.join(RECIPE_PATH, f'{MODEL_NAME}.yaml'))\n",
    "with open(YAML_FILEPATH, 'w') as f:\n",
    "    yaml.dump(YAML_RECIPE, f)"
   ]
  }
 ],
 "metadata": {
  "kernelspec": {
   "display_name": "fyp",
   "language": "python",
   "name": "python3"
  },
  "language_info": {
   "codemirror_mode": {
    "name": "ipython",
    "version": 3
   },
   "file_extension": ".py",
   "mimetype": "text/x-python",
   "name": "python",
   "nbconvert_exporter": "python",
   "pygments_lexer": "ipython3",
   "version": "3.10.13"
  }
 },
 "nbformat": 4,
 "nbformat_minor": 2
}

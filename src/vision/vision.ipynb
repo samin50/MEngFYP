{
 "cells": [
  {
   "cell_type": "code",
   "execution_count": 25,
   "metadata": {},
   "outputs": [
    {
     "name": "stdout",
     "output_type": "stream",
     "text": [
      "The autoreload extension is already loaded. To reload it, use:\n",
      "  %reload_ext autoreload\n"
     ]
    }
   ],
   "source": [
    "# Imports\n",
    "from tkinter import filedialog, Tk\n",
    "from ultralytics import YOLO\n",
    "import yaml\n",
    "from os import path, listdir\n",
    "from shutil import copytree, rmtree, copy\n",
    "from vsrc.constants import DATA\n",
    "%load_ext autoreload\n",
    "%gui tk"
   ]
  },
  {
   "cell_type": "code",
   "execution_count": 11,
   "metadata": {},
   "outputs": [],
   "source": [
    "# Helper Functions\n",
    "def save_no_overwrite(file):\n",
    "    suffix = 0\n",
    "    name, extension = path.splitext(file)\n",
    "    while path.exists(file):\n",
    "        file = f\"{name}_{suffix}{extension}\"\n",
    "        suffix += 1\n",
    "    return file\n",
    "\n",
    "def open_file():\n",
    "    root = Tk()\n",
    "    filename = filedialog.askopenfilename(title='Select Model Or Checkpoint', initialdir='./models/', filetypes=[('Model Files', '*.pt')])\n",
    "    root.destroy()\n",
    "    return filename"
   ]
  },
  {
   "cell_type": "code",
   "execution_count": 3,
   "metadata": {},
   "outputs": [],
   "source": [
    "# Constants\n",
    "CHECKPOINT_PATH, RECIPE_PATH = './models/checkpoints/', './models/recipes/'\n",
    "IMAGE_SIZE = 250\n",
    "\n",
    "# Derived Constants"
   ]
  },
  {
   "cell_type": "markdown",
   "metadata": {},
   "source": [
    "### Identifier"
   ]
  },
  {
   "cell_type": "code",
   "execution_count": 28,
   "metadata": {},
   "outputs": [
    {
     "name": "stdout",
     "output_type": "stream",
     "text": [
      "Found 2 images and 1 labels in resistor\n"
     ]
    }
   ],
   "source": [
    "# Identifier Recipe\n",
    "DATASET_FOLDER = './dataset/all'\n",
    "YAML_RECIPE = {\n",
    "    'path' : DATASET_FOLDER,\n",
    "    'train' : 'train',\n",
    "    'val' : 'test',\n",
    "    'names' : [{ DATA[name][\"num_label\"] : name} for name in DATA],\n",
    "}\n",
    "# Copy all component data to all folder\n",
    "if path.exists(DATASET_FOLDER): rmtree(DATASET_FOLDER)\n",
    "# Get all component images from all folders\n",
    "images, labels = [], []\n",
    "for folder in listdir('./dataset'):\n",
    "    if folder in ['template', 'test.png']: continue\n",
    "    # Append all files in folder to images\n",
    "    imgfiles = listdir(path.join('./dataset', folder, 'imgs'))\n",
    "    labfiles = listdir(path.join('./dataset', folder, 'labels'))\n",
    "    for file in imgfiles:\n",
    "        images.append(path.join('./dataset', folder, 'imgs', file))\n",
    "    for label in labfiles:\n",
    "        labels.append(path.join('./dataset', folder, 'labels', label))\n",
    "    print(f\"Found {len(imgfiles)} images and {len(labfiles)} labels in {folder}\")\n",
    "# Copy all fules to new folder\n",
    "copytree('./dataset/template', DATASET_FOLDER)\n",
    "# Copy all images to new folder\n",
    "for image in images:\n",
    "    copy(image, path.join(DATASET_FOLDER, 'imgs'))\n",
    "# Copy all labels to new folder\n",
    "for label in labels:\n",
    "    copy(label, path.join(DATASET_FOLDER, 'labels'))"
   ]
  },
  {
   "cell_type": "markdown",
   "metadata": {},
   "source": [
    "### Load Models"
   ]
  },
  {
   "cell_type": "code",
   "execution_count": 14,
   "metadata": {},
   "outputs": [],
   "source": [
    "# Base Model\n",
    "MODEL_PATH, MODEL_NAME = path.split(open_file())\n",
    "# YAML Saving\n",
    "YAML_FILEPATH = save_no_overwrite(path.join(RECIPE_PATH, f'{MODEL_NAME}.yaml'))\n",
    "with open(YAML_FILEPATH, 'w') as f:\n",
    "    yaml.dump(YAML_RECIPE, f)"
   ]
  }
 ],
 "metadata": {
  "kernelspec": {
   "display_name": "fyp",
   "language": "python",
   "name": "python3"
  },
  "language_info": {
   "codemirror_mode": {
    "name": "ipython",
    "version": 3
   },
   "file_extension": ".py",
   "mimetype": "text/x-python",
   "name": "python",
   "nbconvert_exporter": "python",
   "pygments_lexer": "ipython3",
   "version": "3.10.13"
  }
 },
 "nbformat": 4,
 "nbformat_minor": 2
}
